{
 "cells": [
  {
   "cell_type": "code",
   "execution_count": 2,
   "id": "c77161a9",
   "metadata": {},
   "outputs": [
    {
     "name": "stderr",
     "output_type": "stream",
     "text": [
      "[nltk_data] Downloading package words to\n",
      "[nltk_data]     C:\\Users\\sorof\\AppData\\Roaming\\nltk_data...\n",
      "[nltk_data]   Package words is already up-to-date!\n"
     ]
    },
    {
     "data": {
      "text/plain": [
       "True"
      ]
     },
     "execution_count": 2,
     "metadata": {},
     "output_type": "execute_result"
    }
   ],
   "source": [
    "import pandas as pd\n",
    "import matplotlib.pyplot as plt\n",
    "from tld import get_tld\n",
    "import re\n",
    "from nltk.corpus import words\n",
    "import nltk\n",
    "import textdistance as td\n",
    "import scipy as sp\n",
    "import seaborn as sns\n",
    "from Levenshtein import distance\n",
    "nltk.download('words')"
   ]
  },
  {
   "cell_type": "code",
   "execution_count": 3,
   "id": "ffd0858f",
   "metadata": {},
   "outputs": [],
   "source": [
    "def get_tld_custom(dom):\n",
    "    # Extract top-level domain\n",
    "    try:\n",
    "        tld = get_tld(dom, fix_protocol=True)\n",
    "        return tld\n",
    "    except:\n",
    "        tld = dom.split(\".\")[1]\n",
    "        return tld\n"
   ]
  },
  {
   "cell_type": "code",
   "execution_count": 4,
   "id": "97616d3e",
   "metadata": {},
   "outputs": [],
   "source": [
    "df = pd.read_csv(\"../../Downloads/dga_domains_sample.csv\", names=[\"label_binary\", \"label_family\", \"domain\"])"
   ]
  },
  {
   "cell_type": "code",
   "execution_count": 5,
   "id": "24f07dfa",
   "metadata": {},
   "outputs": [
    {
     "data": {
      "text/html": [
       "<div>\n",
       "<style scoped>\n",
       "    .dataframe tbody tr th:only-of-type {\n",
       "        vertical-align: middle;\n",
       "    }\n",
       "\n",
       "    .dataframe tbody tr th {\n",
       "        vertical-align: top;\n",
       "    }\n",
       "\n",
       "    .dataframe thead th {\n",
       "        text-align: right;\n",
       "    }\n",
       "</style>\n",
       "<table border=\"1\" class=\"dataframe\">\n",
       "  <thead>\n",
       "    <tr style=\"text-align: right;\">\n",
       "      <th></th>\n",
       "      <th>label_binary</th>\n",
       "      <th>label_family</th>\n",
       "      <th>domain</th>\n",
       "    </tr>\n",
       "  </thead>\n",
       "  <tbody>\n",
       "    <tr>\n",
       "      <th>0</th>\n",
       "      <td>dga</td>\n",
       "      <td>gozi</td>\n",
       "      <td>mortiscontrastatim.com</td>\n",
       "    </tr>\n",
       "    <tr>\n",
       "      <th>1</th>\n",
       "      <td>dga</td>\n",
       "      <td>corebot</td>\n",
       "      <td>cvyh1po636avyrsxebwbkn7.ddns.net</td>\n",
       "    </tr>\n",
       "    <tr>\n",
       "      <th>2</th>\n",
       "      <td>legit</td>\n",
       "      <td>alexa</td>\n",
       "      <td>plasticbags.sa.com</td>\n",
       "    </tr>\n",
       "    <tr>\n",
       "      <th>3</th>\n",
       "      <td>legit</td>\n",
       "      <td>alexa</td>\n",
       "      <td>mzltrack.com</td>\n",
       "    </tr>\n",
       "    <tr>\n",
       "      <th>4</th>\n",
       "      <td>legit</td>\n",
       "      <td>alexa</td>\n",
       "      <td>miss-slim.ru</td>\n",
       "    </tr>\n",
       "  </tbody>\n",
       "</table>\n",
       "</div>"
      ],
      "text/plain": [
       "  label_binary label_family                            domain\n",
       "0          dga         gozi            mortiscontrastatim.com\n",
       "1          dga      corebot  cvyh1po636avyrsxebwbkn7.ddns.net\n",
       "2        legit        alexa                plasticbags.sa.com\n",
       "3        legit        alexa                      mzltrack.com\n",
       "4        legit        alexa                      miss-slim.ru"
      ]
     },
     "execution_count": 5,
     "metadata": {},
     "output_type": "execute_result"
    }
   ],
   "source": [
    "df.head()"
   ]
  },
  {
   "cell_type": "markdown",
   "id": "f5af7499",
   "metadata": {},
   "source": [
    "### 1. Basic characterization ~ 30 mins"
   ]
  },
  {
   "cell_type": "markdown",
   "id": "9ae5451c",
   "metadata": {},
   "source": [
    "1.1) What is the size of the dataset?"
   ]
  },
  {
   "cell_type": "code",
   "execution_count": null,
   "id": "645f7f51",
   "metadata": {},
   "outputs": [],
   "source": []
  },
  {
   "cell_type": "markdown",
   "id": "5cb1e18b",
   "metadata": {},
   "source": [
    "1.2) How many families are there in the dataset?"
   ]
  },
  {
   "cell_type": "code",
   "execution_count": null,
   "id": "a495c0b5",
   "metadata": {},
   "outputs": [],
   "source": []
  },
  {
   "cell_type": "markdown",
   "id": "bdd9dd04",
   "metadata": {},
   "source": [
    "1.3) How many samples are there for each binary label?"
   ]
  },
  {
   "cell_type": "code",
   "execution_count": null,
   "id": "019ae360",
   "metadata": {},
   "outputs": [],
   "source": []
  },
  {
   "cell_type": "markdown",
   "id": "83c6439e",
   "metadata": {},
   "source": [
    "1.4) How many samples are there for each family label? Plot a bar chart."
   ]
  },
  {
   "cell_type": "code",
   "execution_count": null,
   "id": "b8a01d24",
   "metadata": {},
   "outputs": [],
   "source": []
  },
  {
   "cell_type": "markdown",
   "id": "7cf31c8f",
   "metadata": {},
   "source": [
    "1.5) How many different Top Level Domains (.eu, .it, .fr, etc.) are there for each family? Plot a bar chart"
   ]
  },
  {
   "cell_type": "code",
   "execution_count": null,
   "id": "62fc7796",
   "metadata": {},
   "outputs": [],
   "source": []
  },
  {
   "cell_type": "markdown",
   "id": "e2407457",
   "metadata": {},
   "source": [
    "1.6) Plot the domain length distribution among different families. Hint: use Dataframe.boxplot().\n",
    "https://pandas.pydata.org/docs/reference/api/pandas.DataFrame.boxplot.html\n"
   ]
  },
  {
   "cell_type": "code",
   "execution_count": 15,
   "id": "15a4d48f",
   "metadata": {},
   "outputs": [],
   "source": [
    "df[\"domain_length\"] = df[\"domain\"].apply(lambda x: len(x))"
   ]
  },
  {
   "cell_type": "code",
   "execution_count": null,
   "id": "6b1f3730",
   "metadata": {},
   "outputs": [],
   "source": []
  },
  {
   "cell_type": "markdown",
   "id": "8ec4fa0d",
   "metadata": {},
   "source": [
    "1.7) Choose a single SMALL family, plot a matrix showing the Leveshtein edit distance (https://en.wikipedia.org/wiki/Levenshtein_distance) between each pair of domains."
   ]
  },
  {
   "cell_type": "code",
   "execution_count": 17,
   "id": "5542aeba",
   "metadata": {},
   "outputs": [],
   "source": []
  },
  {
   "cell_type": "markdown",
   "id": "d52dc258",
   "metadata": {},
   "source": [
    "### 2. Feature generation"
   ]
  },
  {
   "cell_type": "markdown",
   "id": "beaf6989",
   "metadata": {},
   "source": [
    "Example feature: n-gram prononuceability"
   ]
  },
  {
   "cell_type": "code",
   "execution_count": 20,
   "id": "f7368f6b",
   "metadata": {},
   "outputs": [],
   "source": [
    "def generate_ngram(x, n=2):\n",
    "    # Extract n-grams for a given n\n",
    "    no_tld = x.split(\".\")[0] # remove tld\n",
    "    ngram_list = []\n",
    "    \n",
    "    try:\n",
    "        for i in range(len(no_tld)-n):\n",
    "            ngram_list.append(no_tld[i:i+n])\n",
    "\n",
    "        ngram_list.append(no_tld[i+1:])\n",
    "\n",
    "        return ngram_list\n",
    "    except:\n",
    "        return [no_tld]\n",
    "\n",
    "    \n",
    "word_dict = words.words()\n",
    "def check_dictionary(x, dictionary = word_dict):\n",
    "    # check if the n-gram exists in english dictionary\n",
    "    \n",
    "    occurrences = len(set(x) & set(dictionary))\n",
    "    return occurrences/len(x)"
   ]
  },
  {
   "cell_type": "code",
   "execution_count": 21,
   "id": "d1bbba11",
   "metadata": {},
   "outputs": [],
   "source": [
    "def num_ratio(x):\n",
    "    # calculate how many numerical characters are present in each domain\n",
    "    "
   ]
  },
  {
   "cell_type": "code",
   "execution_count": 22,
   "id": "723f86d0",
   "metadata": {},
   "outputs": [],
   "source": [
    "def char_ratio(x):\n",
    "    # calculate how many special characters are present in each domain\n",
    "    "
   ]
  },
  {
   "cell_type": "code",
   "execution_count": 23,
   "id": "fb975ccc",
   "metadata": {},
   "outputs": [],
   "source": [
    "def vowel_ratio(x):\n",
    "    # calculate how many vowels are present in each domain\n",
    "   "
   ]
  },
  {
   "cell_type": "code",
   "execution_count": 2,
   "id": "29043114",
   "metadata": {},
   "outputs": [],
   "source": [
    "# Add other linguistic features"
   ]
  },
  {
   "cell_type": "code",
   "execution_count": 24,
   "id": "3be1da11",
   "metadata": {},
   "outputs": [],
   "source": []
  },
  {
   "cell_type": "code",
   "execution_count": 25,
   "id": "c5634153",
   "metadata": {},
   "outputs": [],
   "source": [
    "# This operation needs time and computational resources, debug with smaller sample!\n",
    "\n",
    "df[\"2-gram\"] =  df[\"domain\"].apply(generate_ngram)\n",
    "df[\"3-gram\"] =  df[\"domain\"].apply(generate_ngram,n=3)\n",
    "#df[\"4-gram\"] =  df[\"domain\"].apply(generate_ngram,n=4)\n",
    "#df[\"5-gram\"] =  df[\"domain\"].apply(generate_ngram,n=5)\n",
    "#df[\"6-gram\"] =  df[\"domain\"].apply(generate_ngram,n=6)\n",
    "\n",
    "df[\"2-gram_ratio\"] =  df[\"2-gram\"].apply(check_dictionary)\n",
    "df[\"3-gram_ratio\"] =  df[\"3-gram\"].apply(check_dictionary)\n",
    "#df[\"4-gram_ratio\"] =  df[\"4-gram\"].apply(check_dictionary)\n",
    "#df[\"5-gram_ratio\"] =  df[\"5-gram\"].apply(check_dictionary)\n",
    "#df[\"6-gram_ratio\"] =  df[\"6-gram\"].apply(check_dictionary)\n",
    "\n",
    "df = df.drop([\"3-gram\", \"2-gram\"], axis=1)\n",
    "#df = df.drop([\"4-gram\", \"5-gram\", \"6-gram\"], axis=1)"
   ]
  },
  {
   "cell_type": "markdown",
   "id": "3f411fa2",
   "metadata": {},
   "source": [
    "### 3. Classification"
   ]
  },
  {
   "cell_type": "markdown",
   "id": "164a9029",
   "metadata": {},
   "source": [
    "Select a classifier from https://scikit-learn.org/stable/search.html?q=classifier and run a full classification pipeline.\n",
    "\n",
    "Warnings: \n",
    "- According to the model you choose you might need/not need to scale your data (https://scikit-learn.org/stable/search.html?q=scaler)\n",
    "- Don't forget to encode the categorical features: https://scikit-learn.org/stable/modules/generated/sklearn.preprocessing.OneHotEncoder.html\n",
    "- Perform cross-validation to avoid overfitting and find the best set of parameters:\n",
    "    - https://scikit-learn.org/stable/modules/cross_validation.html \n",
    "    - https://scikit-learn.org/stable/modules/generated/sklearn.model_selection.GridSearchCV.html?highlight=grid%20search#sklearn.model_selection.GridSearchCV\n",
    "- Evaluate the classification metrics \n"
   ]
  },
  {
   "cell_type": "code",
   "execution_count": 41,
   "id": "065b3141",
   "metadata": {},
   "outputs": [],
   "source": [
    "from sklearn.model_selection import train_test_split\n",
    "from sklearn.preprocessing import OneHotEncoder\n",
    "from sklearn.ensemble import RandomForestClassifier\n",
    "from sklearn.metrics import classification_report\n",
    "from sklearn.model_selection import GridSearchCV"
   ]
  },
  {
   "cell_type": "code",
   "execution_count": 35,
   "id": "a4863f92",
   "metadata": {},
   "outputs": [],
   "source": [
    "df_binary = df[[i for i in df.columns if (i != \"label_family\") & (i != \"domain\")]]"
   ]
  },
  {
   "cell_type": "code",
   "execution_count": 36,
   "id": "3b4dc5ed",
   "metadata": {},
   "outputs": [
    {
     "data": {
      "text/html": [
       "<div>\n",
       "<style scoped>\n",
       "    .dataframe tbody tr th:only-of-type {\n",
       "        vertical-align: middle;\n",
       "    }\n",
       "\n",
       "    .dataframe tbody tr th {\n",
       "        vertical-align: top;\n",
       "    }\n",
       "\n",
       "    .dataframe thead th {\n",
       "        text-align: right;\n",
       "    }\n",
       "</style>\n",
       "<table border=\"1\" class=\"dataframe\">\n",
       "  <thead>\n",
       "    <tr style=\"text-align: right;\">\n",
       "      <th></th>\n",
       "      <th>label_binary</th>\n",
       "      <th>tld</th>\n",
       "      <th>domain_length</th>\n",
       "      <th>num_ratio</th>\n",
       "      <th>char_ratio</th>\n",
       "      <th>vowel_ratio</th>\n",
       "      <th>2-gram_ratio</th>\n",
       "      <th>3-gram_ratio</th>\n",
       "    </tr>\n",
       "  </thead>\n",
       "  <tbody>\n",
       "    <tr>\n",
       "      <th>0</th>\n",
       "      <td>dga</td>\n",
       "      <td>com</td>\n",
       "      <td>22</td>\n",
       "      <td>0.00000</td>\n",
       "      <td>0.000000</td>\n",
       "      <td>0.318182</td>\n",
       "      <td>0.588235</td>\n",
       "      <td>0.437500</td>\n",
       "    </tr>\n",
       "    <tr>\n",
       "      <th>1</th>\n",
       "      <td>dga</td>\n",
       "      <td>ddns.net</td>\n",
       "      <td>32</td>\n",
       "      <td>0.09375</td>\n",
       "      <td>0.000000</td>\n",
       "      <td>0.125000</td>\n",
       "      <td>0.090909</td>\n",
       "      <td>0.000000</td>\n",
       "    </tr>\n",
       "    <tr>\n",
       "      <th>2</th>\n",
       "      <td>legit</td>\n",
       "      <td>sa.com</td>\n",
       "      <td>18</td>\n",
       "      <td>0.00000</td>\n",
       "      <td>0.000000</td>\n",
       "      <td>0.277778</td>\n",
       "      <td>0.500000</td>\n",
       "      <td>0.444444</td>\n",
       "    </tr>\n",
       "    <tr>\n",
       "      <th>3</th>\n",
       "      <td>legit</td>\n",
       "      <td>com</td>\n",
       "      <td>12</td>\n",
       "      <td>0.00000</td>\n",
       "      <td>0.000000</td>\n",
       "      <td>0.166667</td>\n",
       "      <td>0.142857</td>\n",
       "      <td>0.166667</td>\n",
       "    </tr>\n",
       "    <tr>\n",
       "      <th>4</th>\n",
       "      <td>legit</td>\n",
       "      <td>ru</td>\n",
       "      <td>12</td>\n",
       "      <td>0.00000</td>\n",
       "      <td>0.083333</td>\n",
       "      <td>0.250000</td>\n",
       "      <td>0.375000</td>\n",
       "      <td>0.142857</td>\n",
       "    </tr>\n",
       "  </tbody>\n",
       "</table>\n",
       "</div>"
      ],
      "text/plain": [
       "  label_binary       tld  domain_length  num_ratio  char_ratio  vowel_ratio  \\\n",
       "0          dga       com             22    0.00000    0.000000     0.318182   \n",
       "1          dga  ddns.net             32    0.09375    0.000000     0.125000   \n",
       "2        legit    sa.com             18    0.00000    0.000000     0.277778   \n",
       "3        legit       com             12    0.00000    0.000000     0.166667   \n",
       "4        legit        ru             12    0.00000    0.083333     0.250000   \n",
       "\n",
       "   2-gram_ratio  3-gram_ratio  \n",
       "0      0.588235      0.437500  \n",
       "1      0.090909      0.000000  \n",
       "2      0.500000      0.444444  \n",
       "3      0.142857      0.166667  \n",
       "4      0.375000      0.142857  "
      ]
     },
     "execution_count": 36,
     "metadata": {},
     "output_type": "execute_result"
    }
   ],
   "source": [
    "df_binary.head()"
   ]
  },
  {
   "cell_type": "code",
   "execution_count": null,
   "id": "bcf1c5ed",
   "metadata": {},
   "outputs": [],
   "source": [
    "# split train and test set\n"
   ]
  },
  {
   "cell_type": "code",
   "execution_count": 38,
   "id": "340e1385",
   "metadata": {},
   "outputs": [],
   "source": [
    "# encode the tld\n",
    "\n"
   ]
  },
  {
   "cell_type": "code",
   "execution_count": null,
   "id": "cb482305",
   "metadata": {},
   "outputs": [],
   "source": [
    "# Choose a classifier and perform the grid search cross validation\n"
   ]
  },
  {
   "cell_type": "code",
   "execution_count": null,
   "id": "a322f468",
   "metadata": {},
   "outputs": [],
   "source": [
    "# Predict on the test set and print the classification report\n"
   ]
  }
 ],
 "metadata": {
  "kernelspec": {
   "display_name": "Python 3 (ipykernel)",
   "language": "python",
   "name": "python3"
  },
  "language_info": {
   "codemirror_mode": {
    "name": "ipython",
    "version": 3
   },
   "file_extension": ".py",
   "mimetype": "text/x-python",
   "name": "python",
   "nbconvert_exporter": "python",
   "pygments_lexer": "ipython3",
   "version": "3.9.13"
  }
 },
 "nbformat": 4,
 "nbformat_minor": 5
}
